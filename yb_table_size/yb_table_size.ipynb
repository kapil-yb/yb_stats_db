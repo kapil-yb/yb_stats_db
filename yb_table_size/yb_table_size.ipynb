{
 "cells": [
  {
   "cell_type": "markdown",
   "metadata": {},
   "source": [
    "DBA's need to understand keep a tab on the growing size of database and tables. This data can be helpful in ways such as:\n",
    "\n",
    "1) Understand the table size growing over time for reporting purpose. \n",
    "2) Developer might have miss to set the purging policies on the table and thus size will continously keep on increasing.\n",
    "3) A sudden drop or increase could be due to accidental deletion or insertion\n",
    "4) Management might want a utilization report for each Database in multi tennant environment.\n",
    "\n",
    "This program aim to capture the table level metrics which should help to capture the details.\n",
    "\n",
    "Instructions:\n",
    "1) This script can be deployed on platform server\n",
    "2) Install the dependent module require by this script\n",
    "3) Schedule this script to run on daily basis ( Cron could be an option)"
   ]
  },
  {
   "cell_type": "code",
   "execution_count": 11,
   "metadata": {},
   "outputs": [],
   "source": [
    "# Modules whcih are required for to run this program\n",
    "# This program is written and tested on :\n",
    "# Python 2.7.18\n",
    "# YB Anywhere 2.13.X\n",
    "# http                               0.2\n",
    "# jsonschema                         3.2.0\n",
    "# pandas                             0.24.2\n",
    "# psycopg2-binary                    2.8.6\n",
    "\n",
    "#import http.client (For python3)\n",
    "import httplib \n",
    "import json\n",
    "import pandas as pd\n",
    "import psycopg2\n",
    "from datetime import datetime"
   ]
  },
  {
   "cell_type": "code",
   "execution_count": 12,
   "metadata": {},
   "outputs": [],
   "source": [
    "#Make a connection to the database\n",
    "\n",
    "#conn = http.client.HTTPConnection(\"10.9.123.49\") -- (For python3)\n",
    "conn = httplib.HTTPConnection(\"10.9.123.49\")\n",
    "\n",
    "#For Https connection, use HTTPSConnection\n",
    "#conn = http.client.HTTPSConnection(\"10.9.123.49\")\n",
    "\n",
    "## Repalce your API Token\n",
    "headers = {\n",
    "    'Content-Type': \"application/json\",\n",
    "    'X-AUTH-YW-API-TOKEN': \"0d26d552-0b12-4ed6-869b-425972e6b398\"\n",
    "    }\n",
    "\n",
    "# Replace Customer UUID\n",
    "cUUID=\"3a69de7a-f74e-4124-adcd-de19484006da\"\n",
    "\n",
    "#Replace Universe UUID\n",
    "uniUUID=\"7e848e2a-f7e1-47bc-8517-ec4a64b4e285\"\n",
    "\n",
    "conn.request(\"GET\", \"/api/v1/customers/\"+cUUID+\"/universes/\"+uniUUID+\"/tables\", headers=headers)\n",
    "\n",
    "res = conn.getresponse()\n",
    "data = json.loads(res.read())\n",
    "\n",
    "#data[0]['tableUUID']"
   ]
  },
  {
   "cell_type": "markdown",
   "metadata": {},
   "source": [
    "Notes:\n",
    "======\n",
    "\n",
    "\"table_stats\" table has primary key on run_id,current_dt,tableuuid\n",
    "\n",
    "#Table and seq definition\n",
    "# Create a database \"yb_stats_db\" and following object in the database.\n",
    "create table table_stats (run_id bigint,current_dt date,tableUUID text, dbname text,tableType text,tableName text,relationType text,sizeBytes float,isIndexTable text, primary key((run_id,current_dt,tableUUID) ));\n",
    "\n",
    "create sequence table_stats_run_id_sequence start 1 increment 1;\n",
    "# Sequence will help to create unique ID for every script execution. It will also help to create primary key for the table"
   ]
  },
  {
   "cell_type": "code",
   "execution_count": 13,
   "metadata": {},
   "outputs": [],
   "source": [
    "try:\n",
    "# Connect to your postgres DB\n",
    "    conn = psycopg2.connect(dbname='yb_stats_db',host='10.9.124.17',port='5433',user='yugabyte')\n",
    "#    conn = psycopg2.connect(dbname='northwind',host='us-west-2.6ae39e7c-660a-4a25-9c6a-a1276a635c06.aws.ybdb.io',port='5433',user='admin',password='44Rf_2yypKP-Qg1WypskRBm0eSQzSp',sslmode='verify-full', sslrootcert=\"/content/drive/MyDrive/yb_managed_cloud_data/kapil-test-single-region-1.crt\")\n",
    "\n",
    "# Open a cursor to perform database operations\n",
    "    cur = conn.cursor()\n",
    "except Exception as err:\n",
    "    print (\"Oops! An exception has occured:\", error)\n",
    "    print (\"Exception TYPE:\", type(error))"
   ]
  },
  {
   "cell_type": "code",
   "execution_count": 14,
   "metadata": {},
   "outputs": [],
   "source": [
    "select_sql=\"SELECT nextval('table_stats_run_id_sequence')\"\n",
    "cur.execute(select_sql)\n",
    "\n",
    "# Retrieve query results\n",
    "run_id = cur.fetchall()"
   ]
  },
  {
   "cell_type": "code",
   "execution_count": 15,
   "metadata": {},
   "outputs": [],
   "source": [
    "# Capture current date on whcih data was inserted into the table\n",
    "now = datetime.now()\n",
    "\n",
    "# convert to string\n",
    "date_time_str = now.strftime(\"%Y-%m-%d\")"
   ]
  },
  {
   "cell_type": "code",
   "execution_count": 16,
   "metadata": {},
   "outputs": [],
   "source": [
    "# Final data insertion in the table \n",
    "insert_sql=\"insert into table_stats values (%s,%s,%s,%s,%s,%s,%s,%s,%s)\"\n",
    "for iter in data:\n",
    "    params=(run_id[0][0],date_time_str,iter['tableUUID'],iter['keySpace'],iter['tableType'],iter['tableName'],iter['relationType'],iter['sizeBytes'],iter['isIndexTable'])\n",
    "    cur.execute(insert_sql,params)\n",
    "    conn.commit()"
   ]
  },
  {
   "cell_type": "code",
   "execution_count": 17,
   "metadata": {},
   "outputs": [],
   "source": [
    "conn.close()"
   ]
  },
  {
   "cell_type": "code",
   "execution_count": null,
   "metadata": {},
   "outputs": [],
   "source": []
  }
 ],
 "metadata": {
  "kernelspec": {
   "display_name": "Python 2",
   "language": "python",
   "name": "python2"
  },
  "language_info": {
   "codemirror_mode": {
    "name": "ipython",
    "version": 2
   },
   "file_extension": ".py",
   "mimetype": "text/x-python",
   "name": "python",
   "nbconvert_exporter": "python",
   "pygments_lexer": "ipython2",
   "version": "2.7.18"
  }
 },
 "nbformat": 4,
 "nbformat_minor": 2
}
